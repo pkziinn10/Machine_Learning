{
 "cells": [
  {
   "cell_type": "code",
   "execution_count": null,
   "metadata": {},
   "outputs": [],
   "source": [
    "import numpy as np\n",
    "import pandas as pd\n",
    "import seaborn as sns\n",
    "import matplotlib.pyplot as plt\n",
    "from sklearn.model_selection import KFold\n",
    "from sklearn.neighbors import KNeighborsRegressor\n",
    "from sklearn.tree import DecisionTreeRegressor\n",
    "from sklearn.ensemble import RandomForestRegressor\n",
    "from sklearn.linear_model import LinearRegression\n",
    "from sklearn.preprocessing import MinMaxScaler\n",
    "from sklearn.metrics import mean_squared_error\n",
    "from sklearn.model_selection import train_test_split\n",
    "from sklearn.model_selection import ParameterGrid\n",
    "from imblearn.under_sampling import NearMiss\n",
    "from scipy.stats import wilcoxon"
   ]
  },
  {
   "cell_type": "code",
   "execution_count": null,
   "metadata": {},
   "outputs": [],
   "source": [
    "df = pd.read_csv('../content/Online-Retail.csv')"
   ]
  },
  {
   "cell_type": "code",
   "execution_count": null,
   "metadata": {},
   "outputs": [],
   "source": [
    "df"
   ]
  },
  {
   "cell_type": "code",
   "execution_count": null,
   "metadata": {},
   "outputs": [],
   "source": [
    "df.shape"
   ]
  },
  {
   "cell_type": "code",
   "execution_count": null,
   "metadata": {},
   "outputs": [],
   "source": [
    "df.isna().sum()"
   ]
  },
  {
   "cell_type": "code",
   "execution_count": null,
   "metadata": {},
   "outputs": [],
   "source": [
    "  missing_count = df.isnull().sum()\n",
    "  missing_percentage = (missing_count / len(df)) * 100\n",
    "\n",
    "  missing_data = pd.DataFrame({'Missing Count': missing_count, 'Missing Percentage': missing_percentage})\n",
    "\n",
    "  plt.figure(figsize=(10, 6))\n",
    "  sns.barplot(x=missing_data.index, y=missing_data['Missing Count'], color='#7EC0EE')\n",
    "\n",
    "  for i, v in enumerate(missing_data['Missing Count']):\n",
    "      plt.text(i, v + 1, f'{missing_data[\"Missing Percentage\"].iloc[i]:.2f}%', ha='center', va='bottom', fontsize=10)\n",
    "\n",
    "  plt.title('Missing Values per Feature')\n",
    "  plt.xlabel('Columns')\n",
    "  plt.ylabel('Count of Missing Values')\n",
    "  plt.xticks(rotation=90)\n",
    "  plt.show()"
   ]
  },
  {
   "cell_type": "code",
   "execution_count": null,
   "metadata": {},
   "outputs": [],
   "source": [
    "df.info()"
   ]
  },
  {
   "cell_type": "code",
   "execution_count": null,
   "metadata": {},
   "outputs": [],
   "source": [
    "df['UnitPrice'] = df['UnitPrice'].str.replace(',', '.').astype(float)"
   ]
  },
  {
   "cell_type": "code",
   "execution_count": null,
   "metadata": {},
   "outputs": [],
   "source": [
    "df.info()"
   ]
  },
  {
   "cell_type": "code",
   "execution_count": null,
   "metadata": {},
   "outputs": [],
   "source": [
    "df['UnitPrice'].describe()"
   ]
  },
  {
   "cell_type": "code",
   "execution_count": null,
   "metadata": {},
   "outputs": [],
   "source": [
    "plt.figure(figsize=(8, 6))\n",
    "sns.boxplot(y='UnitPrice', data=df)\n",
    "plt.title(\"First Boxplot of the UnitPrice column\")\n",
    "plt.show()"
   ]
  },
  {
   "cell_type": "code",
   "execution_count": null,
   "metadata": {},
   "outputs": [],
   "source": [
    "median = df['UnitPrice'][df['UnitPrice'] >= 0].median()\n",
    "df['UnitPrice'] = df['UnitPrice'].apply(lambda x: median if x < 0 else x)"
   ]
  },
  {
   "cell_type": "code",
   "execution_count": null,
   "metadata": {},
   "outputs": [],
   "source": [
    "plt.figure(figsize=(8, 6))\n",
    "sns.boxplot(y='UnitPrice', data=df)\n",
    "plt.title(\"Second Boxplot of the UnitPrice column\")\n",
    "plt.show()"
   ]
  },
  {
   "cell_type": "code",
   "execution_count": null,
   "metadata": {},
   "outputs": [],
   "source": [
    "df['UnitPrice'].describe()"
   ]
  },
  {
   "cell_type": "code",
   "execution_count": null,
   "metadata": {},
   "outputs": [],
   "source": [
    "Q1_UP = df['UnitPrice'].quantile(0.25)\n",
    "Q2_UP = df['UnitPrice'].quantile(0.5)\n",
    "Q3_UP = df['UnitPrice'].quantile(0.75)\n",
    "\n",
    "lower_limit_UP = Q1_UP - 1.5 * (Q3_UP - Q1_UP)\n",
    "upper_limit_UP = Q3_UP + 1.5 * (Q3_UP - Q1_UP)\n",
    "\n",
    "print(f\"Feature: UnitPrice\")\n",
    "print(f\"- Q1: {Q1_UP:.2f}\")\n",
    "print(f\"- Q2 (Mediana): {Q2_UP:.2f}\")\n",
    "print(f\"- Q3: {Q3_UP:.2f}\")\n",
    "print(f\"- Limite Inferior: {lower_limit_UP:.2f}\")\n",
    "print(f\"- Limite Superior: {upper_limit_UP:.2f}\")"
   ]
  },
  {
   "cell_type": "code",
   "execution_count": null,
   "metadata": {},
   "outputs": [],
   "source": [
    "mean_UP = df['UnitPrice'].mean()\n",
    "median_UP = df['UnitPrice'].median()\n",
    "mode_UP = df['UnitPrice'].mode()[0]\n",
    "var_UP = df['UnitPrice'].var()\n",
    "std_UP = df['UnitPrice'].std()\n",
    "\n",
    "print(f\"Feature: UnitPrice\")\n",
    "print(f\"- mean: {mean_UP:.6f}\")\n",
    "print(f\"- median: {median_UP:.6f}\")\n",
    "print(f\"- mode: {mode_UP:.6f}\")\n",
    "print(f\"- var: {var_UP:.6f}\")\n",
    "print(f\"- std: {std_UP:.6f}\")"
   ]
  },
  {
   "cell_type": "code",
   "execution_count": null,
   "metadata": {},
   "outputs": [],
   "source": [
    "df['Quantity'].describe()"
   ]
  },
  {
   "cell_type": "code",
   "execution_count": null,
   "metadata": {},
   "outputs": [],
   "source": [
    "plt.figure(figsize=(8, 6))\n",
    "sns.boxplot(y='Quantity', data=df)\n",
    "plt.title(\"First Boxplot of the Quantity column\")\n",
    "plt.show()"
   ]
  },
  {
   "cell_type": "code",
   "execution_count": null,
   "metadata": {},
   "outputs": [],
   "source": [
    "median = df['Quantity'][df['Quantity'] > 0].median()\n",
    "df['Quantity'] = df['Quantity'].apply(lambda x: median if x <= 0 else x)"
   ]
  },
  {
   "cell_type": "code",
   "execution_count": null,
   "metadata": {},
   "outputs": [],
   "source": [
    "plt.figure(figsize=(8, 6))\n",
    "sns.boxplot(y='Quantity', data=df)\n",
    "plt.title(\"Second Boxplot of the Quantity column\")\n",
    "plt.show()"
   ]
  },
  {
   "cell_type": "code",
   "execution_count": null,
   "metadata": {},
   "outputs": [],
   "source": [
    "df['Quantity'].describe()"
   ]
  },
  {
   "cell_type": "code",
   "execution_count": null,
   "metadata": {},
   "outputs": [],
   "source": [
    "Q1_Q = df['Quantity'].quantile(0.25)\n",
    "Q2_Q = df['Quantity'].quantile(0.5)\n",
    "Q3_Q = df['Quantity'].quantile(0.75)\n",
    "\n",
    "lower_limit_Q = Q1_Q - 1.5 * (Q3_Q - Q1_Q)\n",
    "upper_limit_Q = Q3_Q + 1.5 * (Q3_Q - Q1_Q)\n",
    "\n",
    "print(f\"Feature: Quantity\")\n",
    "print(f\"- Q1: {Q1_Q:.2f}\")\n",
    "print(f\"- Q2 (Mediana): {Q2_Q:.2f}\")\n",
    "print(f\"- Q3: {Q3_Q:.2f}\")\n",
    "print(f\"- Limite Inferior: {lower_limit_Q:.2f}\")\n",
    "print(f\"- Limite Superior: {upper_limit_Q:.2f}\")"
   ]
  },
  {
   "cell_type": "code",
   "execution_count": null,
   "metadata": {},
   "outputs": [],
   "source": [
    "mean_Q = df['Quantity'].mean()\n",
    "median_Q = df['Quantity'].median()\n",
    "mode_Q = df['Quantity'].mode()[0]\n",
    "var_Q = df['Quantity'].var()\n",
    "std_Q = df['Quantity'].std()\n",
    "\n",
    "print(f\"Feature: Quantity\")\n",
    "print(f\"- mean: {mean_Q:.6f}\")\n",
    "print(f\"- median: {median_Q:.6f}\")\n",
    "print(f\"- mode: {mode_Q:.6f}\")\n",
    "print(f\"- var: {var_Q:.6f}\")\n",
    "print(f\"- std: {std_Q:.6f}\")"
   ]
  },
  {
   "cell_type": "code",
   "execution_count": null,
   "metadata": {},
   "outputs": [],
   "source": [
    "plt.scatter(df['Quantity'], df['UnitPrice'], color='skyblue', edgecolor='black', alpha=0.5)\n",
    "plt.title('Scatter Plot of Quantity vs UnitPrice')\n",
    "plt.xlabel('Quantity')\n",
    "plt.ylabel('Price')\n",
    "plt.show()"
   ]
  },
  {
   "cell_type": "code",
   "execution_count": null,
   "metadata": {},
   "outputs": [],
   "source": [
    "plt.scatter(df['Quantity'], df['UnitPrice'], color='skyblue', edgecolor='black', alpha=0.5)\n",
    "plt.title('Scatter Plot of Quantity vs UnitPrice')\n",
    "plt.xlabel('Quantity')\n",
    "plt.ylabel('Price')\n",
    "plt.xscale('log')\n",
    "plt.yscale('log')\n",
    "plt.show()"
   ]
  },
  {
   "cell_type": "code",
   "execution_count": null,
   "metadata": {},
   "outputs": [],
   "source": [
    "df['Country'].describe()"
   ]
  },
  {
   "cell_type": "code",
   "execution_count": null,
   "metadata": {},
   "outputs": [],
   "source": [
    "df['Country'].value_counts().head(10).plot(kind='barh', color='skyblue', edgecolor='black')\n",
    "plt.title('Bar Plot of Country')\n",
    "plt.xlabel('Country')\n",
    "plt.ylabel('Frequency')\n",
    "plt.show()"
   ]
  },
  {
   "cell_type": "code",
   "execution_count": null,
   "metadata": {},
   "outputs": [],
   "source": [
    "df['InvoiceDate'].describe()"
   ]
  },
  {
   "cell_type": "code",
   "execution_count": null,
   "metadata": {},
   "outputs": [],
   "source": [
    "df['InvoiceDate'] = pd.to_datetime(df['InvoiceDate'], format='%d/%m/%Y %H:%M')\n",
    "\n",
    "df['Month'] = df['InvoiceDate'].dt.strftime('%m')\n",
    "df['Week'] = df['InvoiceDate'].dt.strftime('%A')\n",
    "df['Time'] = df['InvoiceDate'].dt.strftime('%H')\n",
    "\n",
    "df = df.drop(columns=['InvoiceDate'])"
   ]
  },
  {
   "cell_type": "code",
   "execution_count": null,
   "metadata": {},
   "outputs": [],
   "source": [
    "df['TotalPrice'] = df['Quantity'] * df['UnitPrice']\n",
    "daywise = df.groupby('Week').agg({'TotalPrice': 'sum'}).reset_index()\n",
    "df = df.drop(columns=['TotalPrice'])\n",
    "\n",
    "daywise['Week'] = pd.Categorical(daywise['Week'], categories=[\"Sunday\", \"Monday\", \"Tuesday\", \"Wednesday\", \"Thursday\", \"Friday\", \"Saturday\"], ordered=True)\n",
    "daywise = daywise.sort_values('Week')\n",
    "\n",
    "plt.figure(figsize=(10, 6))\n",
    "plt.plot(daywise['Week'], daywise['TotalPrice'], marker='o', color='skyblue', linewidth=1.2, markersize=6)\n",
    "plt.title('Total Sales by Day')\n",
    "plt.xlabel('Days of the week')\n",
    "plt.ylabel('Total Sales')\n",
    "plt.xticks(rotation=45)\n",
    "plt.grid(True)\n",
    "plt.tight_layout()\n",
    "plt.show()"
   ]
  },
  {
   "cell_type": "code",
   "execution_count": null,
   "metadata": {},
   "outputs": [],
   "source": [
    "sns.set_style(\"whitegrid\")\n",
    "plt.figure(figsize=(10, 6))\n",
    "sns.histplot(data=df, x='Time', bins=24, color='lightcoral', kde=False)\n",
    "plt.xlabel('Hours throughout the day', fontsize=12)\n",
    "plt.ylabel('Count of Orders', fontsize=12)\n",
    "plt.title('Most customers buy products between 12:00 to 15:00', fontsize=14)\n",
    "plt.xticks(fontsize=10)\n",
    "plt.yticks(fontsize=10)\n",
    "plt.grid(True)\n",
    "plt.show()"
   ]
  },
  {
   "cell_type": "code",
   "execution_count": null,
   "metadata": {},
   "outputs": [],
   "source": [
    "labels = [\n",
    "    'January-February',\n",
    "    'March-April',\n",
    "    'May-June',\n",
    "    'July-August',\n",
    "    'September-October',\n",
    "    'November-December'\n",
    "]\n",
    "\n",
    "df['Month'] = pd.cut(df['Month'].astype(int), bins=[0, 2, 4, 6, 8, 10, 12], labels=labels, right=True)"
   ]
  },
  {
   "cell_type": "code",
   "execution_count": null,
   "metadata": {},
   "outputs": [],
   "source": [
    "df['Month'].value_counts().plot(kind='pie', autopct='%1.0f%%', title='Months')"
   ]
  },
  {
   "cell_type": "code",
   "execution_count": null,
   "metadata": {},
   "outputs": [],
   "source": [
    "labels = ['Midnight', 'Morning', 'Afternoon', 'Night']\n",
    "df['Time'] = pd.cut(df['Time'].astype(int), bins=[0, 6, 12, 18, 24], labels=labels, right=False)"
   ]
  },
  {
   "cell_type": "code",
   "execution_count": null,
   "metadata": {},
   "outputs": [],
   "source": [
    "df['Time'].value_counts().plot(kind='pie', autopct='%1.0f%%', title='Shifts')"
   ]
  },
  {
   "cell_type": "code",
   "execution_count": null,
   "metadata": {},
   "outputs": [],
   "source": [
    "df_numeric = df[['Quantity', 'UnitPrice']]\n",
    "sns.pairplot(df_numeric.sample(1000))\n",
    "plt.show()"
   ]
  },
  {
   "cell_type": "code",
   "execution_count": null,
   "metadata": {},
   "outputs": [],
   "source": [
    "def categorize_price(price):\n",
    "    if  <= Q1_UP:\n",
    "        return \"Low\"\n",
    "    elif price >= Q3_UP:\n",
    "        return \"High\"\n",
    "    else:\n",
    "        return \"Average\"\n",
    "\n",
    "df[\"PriceCategory\"] = df[\"UnitPrice\"].apply(categorize_price)"
   ]
  },
  {
   "cell_type": "code",
   "execution_count": null,
   "metadata": {},
   "outputs": [],
   "source": [
    "df['PriceCategory'].value_counts().plot(kind='pie', autopct='%1.0f%%', title='PriceCategory')"
   ]
  },
  {
   "cell_type": "code",
   "execution_count": null,
   "metadata": {},
   "outputs": [],
   "source": [
    "df = pd.get_dummies(df, columns=['Country', 'Month', 'Week', 'Time'])\n",
    "df"
   ]
  },
  {
   "cell_type": "code",
   "execution_count": null,
   "metadata": {},
   "outputs": [],
   "source": [
    "x_temp = df.drop(['PriceCategory', 'InvoiceNo', 'CustomerID', 'Description', 'StockCode'], axis=1)"
   ]
  },
  {
   "cell_type": "code",
   "execution_count": null,
   "metadata": {},
   "outputs": [],
   "source": [
    "y_temp = df['PriceCategory']"
   ]
  },
  {
   "cell_type": "code",
   "execution_count": null,
   "metadata": {},
   "outputs": [],
   "source": [
    "nm = NearMiss(sampling_strategy = {'Low':5000, 'Average':5000, 'High':5000})\n",
    "x_temp_res, y_temp_res = nm.fit_resample(x_temp, y_temp)"
   ]
  },
  {
   "cell_type": "code",
   "execution_count": null,
   "metadata": {},
   "outputs": [],
   "source": [
    "y_temp_res.value_counts().plot(kind='pie', autopct='%1.0f%%', title='PriceCategory')"
   ]
  },
  {
   "cell_type": "code",
   "execution_count": null,
   "metadata": {},
   "outputs": [],
   "source": [
    "df = pd.DataFrame(x_temp_res, columns=x_temp.columns)"
   ]
  },
  {
   "cell_type": "code",
   "execution_count": null,
   "metadata": {},
   "outputs": [],
   "source": [
    "df.shape"
   ]
  },
  {
   "cell_type": "code",
   "execution_count": null,
   "metadata": {},
   "outputs": [],
   "source": [
    "x = df.drop(['UnitPrice'], axis=1)\n",
    "x"
   ]
  },
  {
   "cell_type": "code",
   "execution_count": null,
   "metadata": {},
   "outputs": [],
   "source": [
    "x = x.values"
   ]
  },
  {
   "cell_type": "code",
   "execution_count": null,
   "metadata": {},
   "outputs": [],
   "source": [
    "y = df['UnitPrice']\n",
    "y"
   ]
  },
  {
   "cell_type": "code",
   "execution_count": null,
   "metadata": {},
   "outputs": [],
   "source": [
    "param_grid_KNN = {\n",
    "    'n_neighbors': [3, 5, 7, 9, 11, 15],\n",
    "    'metric': ['euclidean', 'manhattan', 'minkowski', 'cosine']\n",
    "}"
   ]
  },
  {
   "cell_type": "code",
   "execution_count": null,
   "metadata": {},
   "outputs": [],
   "source": [
    "param_grid_DT = {\n",
    "    'max_depth': [10, 20, 30, 40, 50, 60, 70, 80, 90, 100]\n",
    "}"
   ]
  },
  {
   "cell_type": "code",
   "execution_count": null,
   "metadata": {},
   "outputs": [],
   "source": [
    "param_grid_RF = {\n",
    "    'n_estimators': [100, 200, 300, 400, 500],\n",
    "    'max_depth': [10, 20, 30, 40, 50]\n",
    "}"
   ]
  },
  {
   "cell_type": "code",
   "execution_count": null,
   "metadata": {},
   "outputs": [],
   "source": [
    "kfold = KFold(n_splits=10, shuffle=True, random_state=42)"
   ]
  },
  {
   "cell_type": "code",
   "execution_count": null,
   "metadata": {},
   "outputs": [],
   "source": [
    "S = MinMaxScaler()"
   ]
  },
  {
   "cell_type": "code",
   "execution_count": null,
   "metadata": {},
   "outputs": [],
   "source": [
    "test_scores_KNN = []\n",
    "test_scores_DT = []\n",
    "test_scores_RF = []\n",
    "test_scores_LR = []"
   ]
  },
  {
   "cell_type": "code",
   "execution_count": null,
   "metadata": {},
   "outputs": [],
   "source": [
    "for i, (train_index, test_index) in enumerate(kfold.split(x)):\n",
    "    x_train, x_test = x[train_index], x[test_index]\n",
    "    y_train, y_test = y[train_index], y[test_index]\n",
    "\n",
    "    x_train_D, x_val, y_train_D, y_val = train_test_split(x_train, y_train, test_size=0.2)\n",
    "\n",
    "    params_KNN = []\n",
    "    mses_val_KNN = []\n",
    "\n",
    "    params_DT = []\n",
    "    mses_val_DT = []\n",
    "\n",
    "    params_RF = []\n",
    "    mses_val_RF = []\n",
    "\n",
    "    x_train_S = S.fit_transform(x_train)\n",
    "    x_test_S = S.transform(x_test)\n",
    "\n",
    "\n",
    "    x_train_D_S = S.fit_transform(x_train_D)\n",
    "    x_val_S = S.transform(x_val)\n",
    "\n",
    "\n",
    "    for params in ParameterGrid(param_grid_KNN):\n",
    "        knn = KNeighborsRegressor(n_neighbors=params['n_neighbors'], metric=params['metric'])\n",
    "        knn.fit(x_train_D_S, y_train_D)\n",
    "        y_pred = knn.predict(x_val_S)\n",
    "        mse = mean_squared_error(y_val, y_pred)\n",
    "        params_KNN.append(params)\n",
    "        mses_val_KNN.append(mse)\n",
    "\n",
    "    for params in ParameterGrid(param_grid_DT):\n",
    "        dt = DecisionTreeRegressor(max_depth=params['max_depth'], random_state=42)\n",
    "        dt.fit(x_train_D_S, y_train_D)\n",
    "        y_pred = dt.predict(x_val_S)\n",
    "        mse = mean_squared_error(y_val, y_pred)\n",
    "        params_DT.append(params)\n",
    "        mses_val_DT.append(mse)\n",
    "\n",
    "    for params in ParameterGrid(param_grid_RF):\n",
    "        rf = RandomForestRegressor(n_estimators=params['n_estimators'], max_depth=params['max_depth'], random_state=42)\n",
    "        rf.fit(x_train_D_S, y_train_D)\n",
    "        y_pred = rf.predict(x_val_S)\n",
    "        mse = mean_squared_error(y_val, y_pred)\n",
    "        params_RF.append(params)\n",
    "        mses_val_RF.append(mse)\n",
    "\n",
    "    lr = LinearRegression()\n",
    "\n",
    "    print(f\"Fold {i+1}:\")\n",
    "\n",
    "    best_params_KNN = params_KNN[mses_val_KNN.index(min(mses_val_KNN))]\n",
    "    best_params_DT = params_DT[mses_val_DT.index(min(mses_val_DT))]\n",
    "    best_params_RF = params_RF[mses_val_RF.index(min(mses_val_RF))]\n",
    "\n",
    "    knn = KNeighborsRegressor(n_neighbors=best_params_KNN['n_neighbors'], metric=best_params_KNN['metric'])\n",
    "    knn.fit(x_train_S, y_train)\n",
    "    y_pred = knn.predict(x_test_S)\n",
    "    knn_mse = mean_squared_error(y_test, y_pred)\n",
    "    test_scores_KNN.append(knn_mse)\n",
    "\n",
    "    print(f\"\\tKNeighborsRegressor:\")\n",
    "    print(f\"\\t- Melhor n_neighbors: {best_params_KNN['n_neighbors']}\")\n",
    "    print(f\"\\t- Erro médio quadrático no teste: {knn_mse:.2f}\")\n",
    "\n",
    "    dt = DecisionTreeRegressor(max_depth=best_params_DT['max_depth'], random_state=42)\n",
    "    dt.fit(x_train_S, y_train)\n",
    "    y_pred = dt.predict(x_test_S)\n",
    "    dt_mse = mean_squared_error(y_test, y_pred)\n",
    "    test_scores_DT.append(dt_mse)\n",
    "\n",
    "    print(f\"\\n\\tDecisionTreeRegressor:\")\n",
    "    print(f\"\\t- Melhor max_depth: {best_params_DT['max_depth']}\")\n",
    "    print(f\"\\t- Erro médio quadrático no teste: {dt_mse:.2f}\")\n",
    "\n",
    "    rf = RandomForestRegressor(n_estimators=best_params_RF['n_estimators'], max_depth=best_params_RF['max_depth'], random_state=42)\n",
    "    rf.fit(x_train_S, y_train)\n",
    "    y_pred = rf.predict(x_test_S)\n",
    "    rf_mse = mean_squared_error(y_test, y_pred)\n",
    "    test_scores_RF.append(rf_mse)\n",
    "\n",
    "    print(f\"\\n\\tRandomForestRegressor:\")\n",
    "    print(f\"\\t- Melhor n_estimators: {best_params_RF['n_estimators']}\")\n",
    "    print(f\"\\t- Melhor max_depth: {best_params_RF['max_depth']}\")\n",
    "    print(f\"\\t- Erro médio quadrático no teste: {rf_mse:.2f}\")\n",
    "\n",
    "    lr.fit(x_train_S, y_train)\n",
    "    y_pred = lr.predict(x_test_S)\n",
    "    lr_mse = mean_squared_error(y_test, y_pred)\n",
    "    test_scores_LR.append(lr_mse)\n",
    "\n",
    "    print(f\"\\n\\tLinearRegression:\")\n",
    "    print(f\"\\t- Erro médio quadrático no teste: {lr_mse:.2f}\")\n",
    "\n",
    "    print(\"----------------------------------------\")"
   ]
  },
  {
   "cell_type": "code",
   "execution_count": null,
   "metadata": {},
   "outputs": [],
   "source": [
    "test_scores_dict = [\n",
    "    ('KNeighborsRegressor', test_scores_KNN),\n",
    "    ('DecisionTreeRegressor', test_scores_DT),\n",
    "    ('LinearRegression', test_scores_LR),\n",
    "    ('RandomForestRegressor', test_scores_RF),\n",
    "]\n",
    "\n",
    "for i in range(len(test_scores_dict)):\n",
    "    for j in range(i + 1, len(test_scores_dict)):\n",
    "        model1, test_scores_1 = test_scores_dict[i]\n",
    "        model2, test_scores_2 = test_scores_dict[j]\n",
    "\n",
    "        print(f\"\\n{model1} e {model2}:\")\n",
    "\n",
    "        z, p = wilcoxon(test_scores_1, test_scores_2)\n",
    "\n",
    "        print(f\"\\t- Estatística Z: {z}\")\n",
    "        print(f\"\\t- Valor-p: {p:.2f}\")\n",
    "\n",
    "        if p < 0.05:\n",
    "            print(\"Diferença significativa (rejeitar H0).\")\n",
    "\n",
    "            mean1 = np.mean(test_scores_1)\n",
    "            mean2 = np.mean(test_scores_2)\n",
    "\n",
    "            best_model = model1 if mean1 < mean2 else model2\n",
    "            print(f\"{best_model} é o melhor modelo.\")\n",
    "        else:\n",
    "            print(\"Sem diferença significativa (não rejeitar H0).\")\n",
    "\n",
    "        print(\"----------------------------------------\")"
   ]
  }
 ],
 "metadata": {
  "kernelspec": {
   "display_name": "Python 3",
   "language": "python",
   "name": "python3"
  },
  "language_info": {
   "name": "python",
   "version": "3.13.2"
  }
 },
 "nbformat": 4,
 "nbformat_minor": 2
}
